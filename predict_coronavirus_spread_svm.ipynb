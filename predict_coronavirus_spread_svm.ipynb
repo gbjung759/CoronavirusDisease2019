{
 "cells": [
  {
   "cell_type": "code",
   "execution_count": null,
   "metadata": {},
   "outputs": [],
   "source": [
    "import numpy as np\n",
    "import pandas as pd\n",
    "\n",
    "pd.set_option('display.max_rows', None)\n",
    "np.set_printoptions(suppress=True)\n",
    "df = pd.read_csv('data/covid_19_data.csv')"
   ]
  },
  {
   "cell_type": "code",
   "execution_count": null,
   "metadata": {},
   "outputs": [],
   "source": [
    "# I referred code regarding data preprocessing from https://www.kaggle.com/chirag9073/coronavirus-covid-19-outbreak-data-analysis\n",
    "\n",
    "df.drop(['SNo'], axis=1, inplace=True)\n",
    "df['ObservationDate'] = df['ObservationDate'].apply(pd.to_datetime)"
   ]
  },
  {
   "cell_type": "code",
   "execution_count": null,
   "metadata": {},
   "outputs": [],
   "source": [
    "df.head(10)"
   ]
  },
  {
   "cell_type": "code",
   "execution_count": null,
   "metadata": {},
   "outputs": [],
   "source": [
    "df.isnull().sum()"
   ]
  },
  {
   "cell_type": "code",
   "execution_count": null,
   "metadata": {},
   "outputs": [],
   "source": [
    "df[df['Province/State'].isnull()].head(10)"
   ]
  },
  {
   "cell_type": "code",
   "execution_count": null,
   "metadata": {},
   "outputs": [],
   "source": [
    "# Current situation\n",
    "grouped_df = df.groupby(['Country/Region', 'Province/State'])['Confirmed', 'Deaths', 'Recovered'].max()\n",
    "grouped_df.style.background_gradient(cmap='Pastel1_r')"
   ]
  },
  {
   "cell_type": "code",
   "execution_count": null,
   "metadata": {},
   "outputs": [],
   "source": [
    "# Top 10 Countries with most no. of reported cases\n",
    "latest_df = df[df['ObservationDate'] == max(df['ObservationDate'])].reset_index()\n",
    "grouped_df = latest_df.groupby('Country/Region')['Confirmed', 'Deaths', 'Recovered'].sum().reset_index()\n",
    "\n",
    "temp = grouped_df[['Country/Region', 'Confirmed']]\n",
    "temp = temp.sort_values(by='Confirmed', ascending=False)\n",
    "temp = temp.reset_index(drop=True)\n",
    "temp.head(10).style.background_gradient(cmap='Pastel1_r')"
   ]
  },
  {
   "cell_type": "code",
   "execution_count": null,
   "metadata": {},
   "outputs": [],
   "source": [
    "# Countries with all the cases recovered\n",
    "temp = grouped_df[grouped_df['Confirmed']==grouped_df['Recovered']]\n",
    "temp = temp[['Country/Region', 'Confirmed', 'Recovered']]\n",
    "temp = temp.sort_values('Confirmed', ascending=False)\n",
    "temp = temp.reset_index(drop=True)\n",
    "temp.style.background_gradient(cmap='Greens')"
   ]
  },
  {
   "cell_type": "code",
   "execution_count": null,
   "metadata": {},
   "outputs": [],
   "source": [
    "# Most recent stats\n",
    "world_daily_df = df.groupby('ObservationDate')['Confirmed', 'Deaths', 'Recovered'].sum()\n",
    "world_daily_df = world_daily_df.reset_index()\n",
    "world_daily_df = world_daily_df.sort_values('ObservationDate', ascending=False)\n",
    "world_daily_df.head(1).style.background_gradient(cmap='Pastel1')"
   ]
  },
  {
   "cell_type": "code",
   "execution_count": null,
   "metadata": {},
   "outputs": [],
   "source": [
    "world_daily_df.style.background_gradient(cmap='Pastel1')"
   ]
  },
  {
   "cell_type": "code",
   "execution_count": null,
   "metadata": {},
   "outputs": [],
   "source": [
    "world_daily_df.isnull().sum()"
   ]
  },
  {
   "cell_type": "code",
   "execution_count": null,
   "metadata": {},
   "outputs": [],
   "source": [
    "import datetime\n",
    "import os\n",
    "from keras.models import Sequential\n",
    "from keras.layers import Dense, LSTM, Dropout\n",
    "from sklearn.preprocessing import StandardScaler\n",
    "from keras.callbacks import EarlyStopping, ModelCheckpoint\n",
    "\n",
    "\n",
    "class PandemicRegressor():\n",
    "    def __init__(self, window_size, batch_size, n_feature):\n",
    "        self.window_size = window_size\n",
    "        self.batch_size = batch_size\n",
    "        self.n_feture = n_feature\n",
    "        save_dir = os.path.join(os.path.join(os.getcwd(), 'model'), \n",
    "                                datetime.datetime.now().strftime('%Y-%m-%d;%H.%M.%S'))\n",
    "        os.mkdir(save_dir)\n",
    "        self.model_path = os.path.join(save_dir, 'pdm_reg.h5')\n",
    "        self.callbacks = [\n",
    "\t\t\tEarlyStopping(monitor='val_loss', patience=20)\n",
    "\t\t]\n",
    "        self.reg = self.build_model()\n",
    "    def __del__(self):\n",
    "        self.reg.save(self.model_path)\n",
    "        print('saved in ' + self.model_path)\n",
    "        \n",
    "    def build_model(self):\n",
    "        model = Sequential([\n",
    "            LSTM(16, input_shape=(self.window_size, self.n_feature), dropout=0.5),\n",
    "            #LSTM(64, batch_input_shape=(self.batch_size, self.window_size, 1), dropout=0.5, stateful=True),\n",
    "            Dense(16, activation='relu'),\n",
    "            Dropout(0.5),\n",
    "            Dense(self.n_feature, activation='linear')\n",
    "        ])\n",
    "        model.compile(loss='mean_squared_error', \n",
    "                      optimizer='adam',\n",
    "                      metrics=['mae', 'mape'])\n",
    "        return model\n",
    "    \n",
    "    def fit(self, X_train, y_train, X_val, y_val, epochs=500):\n",
    "        hist = self.reg.fit(X_train, \n",
    "                            y_train, \n",
    "                            epochs=epochs, \n",
    "                            batch_size=self.batch_size,\n",
    "                            validation_data=(X_val, y_val),\n",
    "                            callbacks=self.callbacks,\n",
    "                            verbose=1,\n",
    "                           shuffle=False)\n",
    "        return hist\n",
    "    \n",
    "    def evaluate(self, X_test, y_test):\n",
    "        loss_and_metrics = self.reg.evaluate(X_test, \n",
    "                                             y_test, \n",
    "                                             batch_size=self.batch_size)\n",
    "        return loss_and_metrics\n",
    "    \n",
    "    def save(self):\n",
    "        self.reg.save(self.model_path)\n",
    "        print('saved in ' + self.model_path)\n",
    "        \n",
    "pdm_reg = PandemicRegressor(window_size=WINDOW_SIZE, batch_size=32)"
   ]
  },
  {
   "cell_type": "code",
   "execution_count": null,
   "metadata": {},
   "outputs": [],
   "source": [
    "\"\"\"\n",
    "Predict the global spread of coronavirus\n",
    "\"\"\"\n",
    "%matplotlib inline\n",
    "from sklearn.model_selection import train_test_split\n",
    "import matplotlib.pyplot as plt\n",
    "\n",
    "def show_train_hist(hist):\n",
    "    plt.plot(hist.history['loss'], 'b-', label='train_loss')\n",
    "    plt.plot(hist.history['val_loss'], 'r', label='val_loss')\n",
    "    plt.title(\"loss history\")\n",
    "    plt.legend()\n",
    "    plt.tight_layout()\n",
    "    plt.show()\n",
    "\n",
    "# Normalize\n",
    "_mean = np.mean(world_daily_df[['Confirmed', 'Deaths', 'Recovered']].values, axis=0)\n",
    "_std = np.std(world_daily_df[['Confirmed', 'Deaths', 'Recovered']].values, axis=0)\n",
    "\n",
    "print(_mean)\n",
    "print(_std)"
   ]
  },
  {
   "cell_type": "code",
   "execution_count": null,
   "metadata": {},
   "outputs": [],
   "source": [
    "WINDOW_SIZE = 4\n",
    "\n",
    "def seq2dataset(sr, window_size):\n",
    "        seq_data = []\n",
    "        for i in range(len(sr) - window_size):\n",
    "            subset = list(sr[i:(i+window_size+1)])\n",
    "            subset.reverse()\n",
    "            seq_data.append(subset)\n",
    "        seq_data.reverse()\n",
    "        seq_data = np.array(seq_data)\n",
    "        return seq_data[:,0:window_size,:], seq_data[:,window_size,:]"
   ]
  },
  {
   "cell_type": "code",
   "execution_count": null,
   "metadata": {},
   "outputs": [],
   "source": [
    "X, y = seq2dataset(world_daily_df[['Confirmed', 'Deaths', 'Recovered']].values, WINDOW_SIZE)\n",
    "X"
   ]
  },
  {
   "cell_type": "code",
   "execution_count": null,
   "metadata": {},
   "outputs": [],
   "source": [
    "y"
   ]
  },
  {
   "cell_type": "code",
   "execution_count": null,
   "metadata": {},
   "outputs": [],
   "source": [
    "X = (X - _mean) / _std"
   ]
  },
  {
   "cell_type": "code",
   "execution_count": null,
   "metadata": {},
   "outputs": [],
   "source": [
    "X"
   ]
  },
  {
   "cell_type": "code",
   "execution_count": null,
   "metadata": {},
   "outputs": [],
   "source": [
    "X_train, X_test, y_train, y_test = train_test_split(X, y, test_size=0.15, shuffle=False)"
   ]
  },
  {
   "cell_type": "code",
   "execution_count": null,
   "metadata": {},
   "outputs": [],
   "source": [
    "X_train"
   ]
  },
  {
   "cell_type": "code",
   "execution_count": null,
   "metadata": {},
   "outputs": [],
   "source": [
    "X_test"
   ]
  },
  {
   "cell_type": "code",
   "execution_count": null,
   "metadata": {},
   "outputs": [],
   "source": [
    "y_train"
   ]
  },
  {
   "cell_type": "code",
   "execution_count": null,
   "metadata": {},
   "outputs": [],
   "source": [
    "y_test"
   ]
  },
  {
   "cell_type": "code",
   "execution_count": null,
   "metadata": {},
   "outputs": [],
   "source": [
    "hist = pdm_reg.fit(X_train=X_train, \n",
    "                       y_train=y_train, \n",
    "                       X_val=X_test, \n",
    "                       y_val=y_test,\n",
    "                       epochs=300)\n",
    "\n",
    "show_train_hist(hist)\n",
    "loss_and_metrics = pdm_reg.evaluate(X_test=X_test, \n",
    "                     y_test=y_test)\n",
    "print(f'[{col_name}] MAE: {loss_and_metrics[1]}, MAPE: {loss_and_metrics[2]}')\n",
    "\n",
    "print('Train is done..')"
   ]
  },
  {
   "cell_type": "code",
   "execution_count": null,
   "metadata": {},
   "outputs": [],
   "source": [
    "nation_df = df[df['Country/Region'] == 'South Korea'].groupby('ObservationDate')['Confirmed', 'Deaths', 'Recovered'].sum()\n",
    "nation_df = nation_df.reset_index()\n",
    "nation_df = nation_df.sort_values('ObservationDate', ascending=False)\n",
    "nation_df.style.background_gradient(cmap='Pastel1')"
   ]
  },
  {
   "cell_type": "code",
   "execution_count": null,
   "metadata": {},
   "outputs": [],
   "source": [
    "print(df['Country/Region'].unique())"
   ]
  },
  {
   "cell_type": "code",
   "execution_count": null,
   "metadata": {},
   "outputs": [],
   "source": [
    "# for nation_name in df['Country/Region'].unique():\n",
    "# pdm_reg = PandemicRegressor(window_size=WINDOW_SIZE, batch_size=1)\n",
    "\n",
    "for nation_name in ['South Korea']:\n",
    "    nation_df = df[df['Country/Region'] == nation_name].groupby('ObservationDate')['Confirmed', 'Deaths', 'Recovered'].sum()\n",
    "    nation_df = nation_df.reset_index()\n",
    "    nation_df = nation_df.sort_values('ObservationDate', ascending=False)\n",
    "    \n",
    "    print(f'[{nation_name} spread of coronavirus19]')\n",
    "    \n",
    "    # Normalize\n",
    "    _mean = np.mean(nation_df[['Confirmed', 'Deaths', 'Recovered']].values, axis=0)\n",
    "    _std = np.std(nation_df[['Confirmed', 'Deaths', 'Recovered']].values, axis=0)\n",
    "    \n",
    "    X, y = seq2dataset(nation_df[['Confirmed', 'Deaths', 'Recovered']].values, WINDOW_SIZE)\n",
    "    X = (X - _mean) / _std\n",
    "    X_train, X_test, y_train, y_test = train_test_split(X, y, test_size=0.15, shuffle=False)\n",
    "        \n",
    "    hist = pdm_reg.fit(X_train=X_train, \n",
    "                       y_train=y_train, \n",
    "                       X_val=X_test, \n",
    "                       y_val=y_test,\n",
    "                       epochs=300)\n",
    "\n",
    "    show_train_hist(hist)\n",
    "    loss_and_metrics = pdm_reg.evaluate(X_test=X_test, \n",
    "                                            y_test=y_test)\n",
    "    print(f'[{col_name}] MAE: {loss_and_metrics[1]}, MAPE: {loss_and_metrics[2]}')\n",
    "       \n",
    "print('Train is done..')"
   ]
  },
  {
   "cell_type": "code",
   "execution_count": null,
   "metadata": {},
   "outputs": [],
   "source": [
    "pdm_reg.save()"
   ]
  }
 ],
 "metadata": {
  "kernelspec": {
   "display_name": "Python 3",
   "language": "python",
   "name": "python3"
  },
  "language_info": {
   "codemirror_mode": {
    "name": "ipython",
    "version": 3
   },
   "file_extension": ".py",
   "mimetype": "text/x-python",
   "name": "python",
   "nbconvert_exporter": "python",
   "pygments_lexer": "ipython3",
   "version": "3.7.5"
  }
 },
 "nbformat": 4,
 "nbformat_minor": 2
}
